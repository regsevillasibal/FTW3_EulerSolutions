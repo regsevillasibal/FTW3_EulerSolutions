{
 "cells": [
  {
   "cell_type": "code",
   "execution_count": 1,
   "metadata": {},
   "outputs": [],
   "source": [
    "#euler problem 5"
   ]
  },
  {
   "cell_type": "code",
   "execution_count": 2,
   "metadata": {},
   "outputs": [],
   "source": [
    "#2520 is the smallest number that can be divided by each of the numbers from 1 to 10 without any remainder.\n",
    "#What is the smallest positive number that is evenly divisible by all of the numbers from 1 to 20?"
   ]
  },
  {
   "cell_type": "code",
   "execution_count": 3,
   "metadata": {},
   "outputs": [],
   "source": [
    "#euler problem solution"
   ]
  },
  {
   "cell_type": "code",
   "execution_count": 4,
   "metadata": {},
   "outputs": [],
   "source": [
    "\n",
    "# factoring a number\n",
    "def factors(n):\n",
    "    factors = []\n",
    "    # remove any factors of 2 first\n",
    "    while n % 2 == 0:\n",
    "        factors.append(2)\n",
    "        n = n/2\n",
    "    # now look for odd factors\n",
    "    p = 3\n",
    "    while n != 1:\n",
    "        while n % p == 0:\n",
    "            factors.append(p)\n",
    "            n = n/p\n",
    "        p += 2\n",
    "    return factors\n"
   ]
  },
  {
   "cell_type": "code",
   "execution_count": 5,
   "metadata": {},
   "outputs": [],
   "source": [
    "# merge two lists of factors\n",
    "def factor_append(factors,new):\n",
    "    if len(factors) == 0: return new\n",
    "    for i in range(len(new)):\n",
    "        if i > 0 and new[i] == new[i-1]: continue\n",
    "        new_count = new.count(new[i])\n",
    "        old_count = factors.count(new[i])\n",
    "        if new_count > old_count:\n",
    "            for j in range(new_count - old_count): factors.append(new[i])\n",
    "    factors.sort()\n",
    "    return factors\n",
    " "
   ]
  },
  {
   "cell_type": "code",
   "execution_count": 7,
   "metadata": {},
   "outputs": [
    {
     "name": "stdout",
     "output_type": "stream",
     "text": [
      "232792560\n"
     ]
    }
   ],
   "source": [
    "\n",
    "# find the smallest positive evenly divisible number for a positive integer n\n",
    "def smallest_divisible(num):\n",
    "    F = []\n",
    "    for i in range(1,num + 1):\n",
    "        F = factor_append(F,factors(i))\n",
    "    product = 1\n",
    "    for i in F: product *= i\n",
    "    return product\n",
    "\n",
    "product = smallest_divisible(20)\n",
    "\n",
    " \n",
    "print (product)"
   ]
  },
  {
   "cell_type": "code",
   "execution_count": null,
   "metadata": {},
   "outputs": [],
   "source": []
  }
 ],
 "metadata": {
  "kernelspec": {
   "display_name": "Python 3",
   "language": "python",
   "name": "python3"
  },
  "language_info": {
   "codemirror_mode": {
    "name": "ipython",
    "version": 3
   },
   "file_extension": ".py",
   "mimetype": "text/x-python",
   "name": "python",
   "nbconvert_exporter": "python",
   "pygments_lexer": "ipython3",
   "version": "3.7.4"
  }
 },
 "nbformat": 4,
 "nbformat_minor": 4
}
